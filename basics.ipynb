{
 "cells": [
  {
   "cell_type": "markdown",
   "metadata": {
    "slideshow": {
     "slide_type": "slide"
    }
   },
   "source": [
    "<img src=\"img/qiskit-heading.png\" alt=\"Note: In order for images to show up in this jupyter notebook you need to select File => Trusted Notebook\" width=\"500 px\" align=\"center\">\n",
    "\n",
    "\n",
    "# Hands-on  introduction to Qiskit\n",
    "\n",
    "## University of Minho\n",
    "\n",
    "### [Afonso Rodrigues](https://afonsofr.github.io) and [Ana Neri](https://ana.nery.name/wp/)"
   ]
  },
  {
   "cell_type": "markdown",
   "metadata": {
    "slideshow": {
     "slide_type": "slide"
    }
   },
   "source": [
    "### The \"big picture\"\n",
    "\n",
    "<img src=\"img/qiskit_comp.jpg\" alt=\"Note: In order for images to show up in this jupyter notebook you need to select File => Trusted Notebook\" width=\"1000 px\" align=\"center\">"
   ]
  },
  {
   "cell_type": "markdown",
   "metadata": {
    "slideshow": {
     "slide_type": "subslide"
    }
   },
   "source": [
    "<!-- Here, we provide an overview of working with Qiskit. Qiskit provides the basic building blocks necessary to program quantum computers. --> \n",
    "\n",
    "\n",
    "\n",
    "<img src=\"img/qiskit_components.png\" alt=\"Note: In order for images to show up in this jupyter notebook you need to select File => Trusted Notebook\" width=\"1000 px\" align=\"center\">\n",
    "\n",
    "\n",
    "<!-- este texto como uma nota e não em slides -->\n",
    "\n",
    "<!-- The foundation of Qiskit is the **Terra** element. The basic concept of Qiskit Terra is an array of quantum circuits. A workflow using Terra consists of two stages: **Build** and **Execute**. **Build** allows you to make different quantum circuits that represent the problem you are solving, and **Execute** allows you to run them on different backends.  After the jobs have been run, the data is collected. There are methods for putting this data together, depending on the program. This either gives you the answer you wanted, or allows you to make a better program for the next instance. -->\n",
    "\n",
    "<!-- **Aqua** is where algorithms for NISQ computers are built. These algorithms can be used to build applications for quantum computing. Aqua is accessible to domain experts in chemistry, optimization or AI, who want to explore the benefits of using quantum computers as accelerators for specific computational tasks, without needing to worry about how to translate the problem into the language of quantum machines. -->\n",
    "\n",
    "<!-- With **Aer** it is possible to access high-quality, high-performance simulators and continue to improve their scalability and features. Aer will help us understand the limits of classical processors by demonstrating to what extent they can mimic quantum computation. Furthermore, we can use Aer to verify that current and near-future quantum computers function correctly. -->\n",
    "\n",
    "<!-- **Ignis** is a framework for understanding and mitigating noise in quantum circuits and devices. Ignis provides self-contained experiments that include tools for generating the circuits that can be executed on real backends via Terra (or on simulators via Aer) and the tools for fitting the results and analysing the data. -->"
   ]
  },
  {
   "cell_type": "markdown",
   "metadata": {
    "slideshow": {
     "slide_type": "slide"
    }
   },
   "source": [
    "# Contents\n",
    "\n",
    "* [Recall the theory](#theory)\n",
    "* [First Quantum Circuit](#firstQC)\n",
    "* [Simulating circuits with Qiskit Aer](#aer_simulation)\n",
    "* [Running circuits using the IBMQ provider](#ibmq_provider)\n",
    "* [Deutsch-Josza Algorithm](#Deutsch)\n",
    "* [Ignis](#ignis)\n",
    "\n",
    "<!--[Summary of quantum operations](#quantum_operations)-->\n",
    "\n",
    "<!--[Circuit basics](#circuit_basics)-->\n",
    "\n",
    "<!--[Simulating circuits with Qiskit Aer](#aer_simulation)-->\n",
    "\n",
    "<!--[Running circuits using the IBMQ provider](#ibmq_provider)-->\n",
    "\n",
    "<!--[Practical exercises](#exercises)-->"
   ]
  },
  {
   "cell_type": "markdown",
   "metadata": {
    "slideshow": {
     "slide_type": "slide"
    }
   },
   "source": [
    "## Recall the theory"
   ]
  },
  {
   "cell_type": "markdown",
   "metadata": {
    "slideshow": {
     "slide_type": "subslide"
    }
   },
   "source": [
    "<!-- ## Single Qubit Quantum states -->\n",
    "\n",
    "A single qubit quantum state <!-- can be written as -->\n",
    "\n",
    "$$|\\psi\\rangle = \\alpha|0\\rangle + \\beta |1\\rangle$$\n",
    "\n",
    "\n",
    "<!-- where $\\alpha$ and $\\beta$ are complex numbers. In a measurement the probability of the bit being in $|0\\rangle$ is $|\\alpha|^2$ and $|1\\rangle$ is $|\\beta|^2$.--> As a vector this is\n",
    "\n",
    "$$\n",
    "|\\psi\\rangle =  \n",
    "\\begin{pmatrix}\n",
    "\\alpha \\\\\n",
    "\\beta\n",
    "\\end{pmatrix} \\quad \\rightarrow \\quad |0\\rangle = \\binom{1}{0} \\; ;\\; |1\\rangle = \\binom{0}{1}\\,;\n",
    "$$\n",
    "\n",
    "<!-- Note due to conservation probability $|\\alpha|^2+ |\\beta|^2 = 1$ and since global phase is undetectable $|\\psi\\rangle := e^{i\\delta} |\\psi\\rangle$ we only require two real numbers to describe a single qubit quantum state. -->\n",
    "\n",
    "<!-- A convenient representation is -->\n",
    "The normalization rule $|\\alpha|^2+ |\\beta|^2 = 1$ allows for an alternate representation:\n",
    "\n",
    "$$|\\psi\\rangle = \\cos \\left( \\frac{\\theta}{2} \\right)|0\\rangle + \\sin\\left( \\frac{\\theta}{2}\\right) e^{i\\phi}|1\\rangle$$"
   ]
  },
  {
   "cell_type": "markdown",
   "metadata": {
    "slideshow": {
     "slide_type": "subslide"
    }
   },
   "source": [
    "<!-- where $0\\leq \\phi < 2\\pi$, and $0\\leq \\theta \\leq \\pi$.  From this it is clear that there is a one-to-one correspondence between qubit states ($\\mathbb{C}^2$) and the points on the surface of a unit sphere ($\\mathbb{R}^3$). This is called the Bloch sphere representation of a qubit state. -->\n",
    "\n",
    "### Bloch sphere\n",
    "<center>\n",
    "<img src=\"img/Bloch_sphere.png\" alt=\"Note: In order for images to show up in this jupyter notebook you need to select File => Trusted Notebook\" width=\"300 px\">\n",
    "</center>\n",
    "\n",
    "<p>\n",
    "\n",
    "$$|\\psi\\rangle = \\cos \\left( \\frac{\\theta}{2} \\right)|0\\rangle + \\sin\\left( \\frac{\\theta}{2}\\right) e^{i\\phi}|1\\rangle$$\n",
    "\n",
    "<!-- By contrast, a representation of a classical bit over the Bloch sphere would only require the two points of the sphere intersecting the Z axis. --> \n",
    "\n"
   ]
  },
  {
   "cell_type": "markdown",
   "metadata": {
    "slideshow": {
     "slide_type": "subslide"
    }
   },
   "source": [
    "Quantum gates/operations may be represented as matrices. <!-- A gate which acts on a qubit is represented by a $2\\times 2$ unitary matrix $U$. --> \n",
    "\n",
    "The action of the quantum gate is expressed by the product of its matrix with the vector representing the quantum state.\n",
    "\n",
    "$$|\\psi'\\rangle = U|\\psi\\rangle$$\n",
    "\n",
    "<!-- A general unitary must be able to take the $|0\\rangle$ to the above state. That is -->\n",
    "\n",
    "<!-- $$\n",
    "U = \\begin{pmatrix}\n",
    "\\cos(\\theta/2) & a \\\\\n",
    "e^{i\\phi}\\sin(\\theta/2) & b \n",
    "\\end{pmatrix}\n",
    "$$ -->\n",
    "\n",
    "<!-- where $a$ and $b$ are complex numbers constrained such that $U^\\dagger U = I$ for all $0\\leq\\theta\\leq\\pi$ and $0\\leq \\phi<2\\pi$. This gives 3 constraints and as such $a\\rightarrow -e^{i\\lambda}\\sin(\\theta/2)$ and $b\\rightarrow e^{i\\lambda+i\\phi}\\cos(\\theta/2)$ where $0\\leq \\lambda<2\\pi$ giving --> \n",
    "\n",
    "The most general form of a single qubit unitary gate\n",
    "\n",
    "$$\n",
    "U = \\begin{pmatrix}\n",
    "\\cos(\\theta/2) & -e^{i\\lambda}\\sin(\\theta/2) \\\\\n",
    "e^{i\\phi}\\sin(\\theta/2) & e^{i\\lambda+i\\phi}\\cos(\\theta/2) \n",
    "\\end{pmatrix}.\n",
    "$$\n",
    "\n",
    "An $n$-qubit quantum gate is represented by a $2^n \\times 2^n$ matrix.\n",
    "<!-- This is the most general form of a single qubit unitary. -->"
   ]
  },
  {
   "cell_type": "markdown",
   "metadata": {
    "slideshow": {
     "slide_type": "skip"
    }
   },
   "source": [
    "<a id = 'firstQC'></a>"
   ]
  },
  {
   "cell_type": "markdown",
   "metadata": {
    "slideshow": {
     "slide_type": "slide"
    }
   },
   "source": [
    "## Let's start building a circuit \n",
    "\n",
    "#### (But first, we will import the relevant modules)"
   ]
  },
  {
   "cell_type": "code",
   "execution_count": 1,
   "metadata": {
    "slideshow": {
     "slide_type": "subslide"
    }
   },
   "outputs": [],
   "source": [
    "# Ignore warnings for the purpose of this demonstration\n",
    "import warnings\n",
    "warnings.filterwarnings('ignore')\n",
    "\n",
    "# Useful additional packages \n",
    "import matplotlib.pyplot as plt\n",
    "%matplotlib inline\n",
    "import numpy as np\n",
    "from math import pi\n",
    "\n",
    "# Relevant QISKit modules\n",
    "from qiskit import QuantumCircuit, ClassicalRegister, QuantumRegister"
   ]
  },
  {
   "cell_type": "code",
   "execution_count": 2,
   "metadata": {
    "hideCode": false,
    "hideOutput": false,
    "slideshow": {
     "slide_type": "subslide"
    }
   },
   "outputs": [],
   "source": [
    "# Auxiliary functions for circuit execution\n",
    "from qiskit import Aer, BasicAer, execute\n",
    "from qiskit.tools.visualization import plot_histogram, circuit_drawer\n",
    "\n",
    "def show_results(D):\n",
    "    plt.bar(range(len(D)), list(D.values()), align='center')\n",
    "    plt.xticks(range(len(D)), list(D.keys()))\n",
    "    plt.show()\n",
    "\n",
    "\n",
    "# Execute circuit, display a histogram of the results\n",
    "def execute_locally(qc, draw_circuit=False):\n",
    "    # Compile and run the Quantum circuit on a simulator backend\n",
    "    backend_sim = Aer.get_backend('qasm_simulator')\n",
    "    job_sim = execute(qc, backend_sim, shots=1000)\n",
    "    result_sim = job_sim.result()\n",
    "    result_counts = result_sim.get_counts(qc)\n",
    "    \n",
    "    # Print the results\n",
    "    print(\"Simulation: \\n\\n\", result_counts)\n",
    "    \n",
    "    if draw_circuit: # draw the circuit\n",
    "        qc.draw()\n",
    "    else: # or show the results\n",
    "        show_results(result_counts)"
   ]
  },
  {
   "cell_type": "code",
   "execution_count": null,
   "metadata": {
    "slideshow": {
     "slide_type": "subslide"
    }
   },
   "outputs": [],
   "source": [
    "# Create registers\n",
    "qr0 = QuantumRegister(2)\n",
    "\n",
    "# You need a classical register if you want to do measurements!\n",
    "cr0 = ClassicalRegister(2)\n",
    "\n",
    "# Create quantum circuit\n",
    "qc = QuantumCircuit(qr0, cr0)\n",
    "\n",
    "qc.draw()"
   ]
  },
  {
   "cell_type": "markdown",
   "metadata": {
    "slideshow": {
     "slide_type": "subslide"
    }
   },
   "source": [
    "#### Circuits are the primary unit of computation in Terra!\n",
    "\n",
    "Circuits contain:\n",
    "\n",
    "* name - for referencing the circuit later\n",
    "* data - list of gates in the circuit\n",
    "* registers - quantum and classical registers\n",
    "\n",
    "They do **not** contain information about possible backends."
   ]
  },
  {
   "cell_type": "markdown",
   "metadata": {
    "slideshow": {
     "slide_type": "slide"
    }
   },
   "source": [
    "# Gates"
   ]
  },
  {
   "cell_type": "markdown",
   "metadata": {
    "slideshow": {
     "slide_type": "subslide"
    }
   },
   "source": [
    "Although the basic gate set of IBM Q devices is $$\\{id, u1, u2, u3, cx\\}$$ \n",
    "\n",
    "Where\n",
    "$$\n",
    "U_3(\\theta,\\phi,\\lambda) = \\begin{pmatrix}\n",
    "\\cos(\\theta/2) & -e^{i\\lambda}\\sin(\\theta/2) \\\\\n",
    "e^{i\\phi}\\sin(\\theta/2) & e^{i\\lambda+i\\phi}\\cos(\\theta/2) \n",
    "\\end{pmatrix}.\n",
    "$$\n",
    "\n",
    "QISKit supports many gates. (Check the [Summary of quantum operations](https://github.com/Qiskit/qiskit-tutorials/blob/master/qiskit/terra/summary_of_quantum_operations.ipynb) in the tutorials of Terra) "
   ]
  },
  {
   "cell_type": "markdown",
   "metadata": {
    "slideshow": {
     "slide_type": "subslide"
    }
   },
   "source": [
    "#### Example: Gate $X$ (bit-flip gate)\n",
    "\n",
    "The X-gate is also known as NOT gate or “bit-flip”, since it changes a state $| 0 \\rangle $ to $| 1 \\rangle $ and vice versa. This is quantum analogue to a classical NOT gate.\n",
    "\n",
    "On the Bloch sphere representation, this operation corresponds to a rotation of the state around the X-axis by $\\pi$ radians.\n",
    "\n",
    "<center>\n",
    "<img src=\"img/xbloch.png\" width=\"700 px\">\n",
    "</center>"
   ]
  },
  {
   "cell_type": "markdown",
   "metadata": {
    "slideshow": {
     "slide_type": "subslide"
    }
   },
   "source": [
    "#### Example: $Z$ (phase-flip gate)\n",
    "\n",
    "The phase flip gate $Z$ is defined as:\n",
    "\n",
    "$$\n",
    "Z = \n",
    "\\begin{pmatrix}\n",
    "1 & 0\\\\\n",
    "0 & -1\n",
    "\\end{pmatrix}\n",
    "$$\n",
    "\n",
    "It leaves the basis state $|0 \\rangle $ unchanged, while mapping $| 1 \\rangle$ to $- | 1 \\rangle $. In the Bloch sphere representation, and similarly to the $X$ gate, it rotates the state around the $Z$ axis by $\\pi$ radians."
   ]
  },
  {
   "cell_type": "markdown",
   "metadata": {
    "slideshow": {
     "slide_type": "subslide"
    }
   },
   "source": [
    "#### Example: Hadamard gate\n",
    "\n",
    "The Hadamard gate may be used to create superposition. It maps the basis state $| 0 \\rangle$ to $| + \\rangle =\\frac{| 0 \\rangle + | 1 \\rangle }{\\sqrt{2}}$, and $| 1 \\rangle $ to $ | - \\rangle =\\frac{ |0 \\rangle - |1 \\rangle }{\\sqrt{2}}$. <!-- On the Bloch sphere, $| + \\rangle$ and $| - \\rangle $ are represented by points on the X axis. When measured, these states have equal probability of becoming $| 1\\rangle $ or $| 0 \\rangle $, since the square modulus of the probability amplitude for each of the states has equal value. -->\n",
    "\n",
    "<center>\n",
    "<img src=\"img/hbloch.png\" width=\"700 px\">\n",
    "</center>\n",
    "\n",
    "<!-- In fact, $|+\\rangle $ and $| - \\rangle $ are indistinguishable when measured on the computational basis. However, the states can be identified by measuring the qubit on the superposition basis, i.e. along the X-axis. A way to achieve this is by simply applying an Hadamard gate before performing the measurement, as shown in the following figure.\n",
    "\n",
    "\n",
    "<img src=\"img/hhbloch.png\" width=\"700 px\" align=\"center\">\n",
    "-->\n",
    "\n",
    "The Hadamard gate, along with the X, Y and Z gates, is self-inverse: $H.H = I$."
   ]
  },
  {
   "cell_type": "markdown",
   "metadata": {
    "slideshow": {
     "slide_type": "subslide"
    }
   },
   "source": [
    "## Computational and superposition basis<a id='gates_basis'></a>\n",
    "\n",
    "Any set of orthogonal states spanning all dimensions of the Hilbert space of the quantum state can be used as a basis. The Hadamard gate may be used to easily change between the computational ($| 0 \\rangle$ and $|1 \\rangle$) and the superpositon basis, where:\n",
    "\n",
    "- $| + \\rangle = \\frac{1}{\\sqrt{2}} ( | 0 \\rangle + | 1 \\rangle )$\n",
    "- $| - \\rangle = \\frac{1}{\\sqrt{2}} ( | 0 \\rangle - | 1 \\rangle )$\n",
    "\n",
    "<center>\n",
    "<img src=\"files/img/h_x_z.png\" alt=\"Note: In order for images to show up in this jupyter notebook you need to select File => Trusted Notebook\" width=\"400 px\">                                                                                           \n",
    "</center>\n",
    "\n",
    "\n",
    "The above diagram is a useful shorthand for quantum states conversion using quantum gates, and it also depicts the consequences of reversible computation. Literally, you can have a qubit in any of the four states $|0\\rangle$, $|1\\rangle$, $|-\\rangle$, $|+\\rangle$  and obtain any other from it by performing simple one qubit gates."
   ]
  },
  {
   "cell_type": "code",
   "execution_count": null,
   "metadata": {
    "slideshow": {
     "slide_type": "subslide"
    }
   },
   "outputs": [],
   "source": [
    "qr = QuantumRegister(3)\n",
    "cr = ClassicalRegister(3)\n",
    "qc_basis = QuantumCircuit(qr, cr)\n",
    "# An X gate in the computational basis\n",
    "qc_basis.x(qr[0])\n",
    "# Is equivalent to a Z gate in the superposition basis\n",
    "qc_basis.h(qr[1])\n",
    "qc_basis.z(qr[1])\n",
    "qc_basis.h(qr[1])\n",
    "# What happens when we apply the Z gate without changing basis?\n",
    "qc_basis.z(qr[2])\n",
    "# Measure qubits into classical register\n",
    "qc_basis.measure(qr,cr)\n",
    "# Draw the quantum circuits\n",
    "qc_basis.draw(output='mpl')"
   ]
  },
  {
   "cell_type": "code",
   "execution_count": null,
   "metadata": {
    "slideshow": {
     "slide_type": "subslide"
    }
   },
   "outputs": [],
   "source": [
    "execute_locally(qc_basis)"
   ]
  },
  {
   "cell_type": "markdown",
   "metadata": {
    "slideshow": {
     "slide_type": "slide"
    }
   },
   "source": [
    "## CNOT and other multi-qubit operations\n",
    "\n",
    "No set of quantum gates containing only single qubit operations can ever be universal (i.e. form a basis to perform any quantum operation on a multi-qubit quantum system).\n",
    "\n",
    "The CNOT gate, also known as controlled-X, is the fundamental two-qubit gate. Together with a generalized single-qubit unitary gate, we are able to decompose **any** multi-qubit operation. The CNOT gate takes one qubit as control, and one qubit as target.\n",
    "\n",
    "- if the control qubit is in the state $| 0 \\rangle$, the target qubit is left alone;\n",
    "- if the control qubit is in the state $| 1 \\rangle$, the X gate is applied to the target qubit.\n",
    "\n",
    "<center>\n",
    "<img src=\"files/img/cnot.png\" alt=\"Note: In order for images to show up in this jupyter notebook you need to select File => Trusted Notebook\" width=\"200 px\">       \n",
    "</center>\n",
    "\n",
    "This gate allows us to unlock a powerful property of quantum particles: **entanglement**. Without it, quantum computers would lose most of their potential advantage over the classical computing paradigm.\n",
    "\n",
    "In quantum circuits, CNOT gates are used to entangle pairs of qubits."
   ]
  },
  {
   "cell_type": "code",
   "execution_count": null,
   "metadata": {
    "slideshow": {
     "slide_type": "subslide"
    }
   },
   "outputs": [],
   "source": [
    "qr = QuantumRegister(2)\n",
    "cr = ClassicalRegister(2)\n",
    "\n",
    "qc_multi_qubit = QuantumCircuit(qr, cr)\n",
    "\n",
    "qc_multi_qubit.h(qr[0])\n",
    "qc_multi_qubit.cx(qr[0],qr[1])\n",
    "\n",
    "qc_multi_qubit.measure(qr,cr)\n",
    "\n",
    "qc_multi_qubit.draw(output='mpl')"
   ]
  },
  {
   "cell_type": "markdown",
   "metadata": {
    "slideshow": {
     "slide_type": "subslide"
    }
   },
   "source": [
    "<center>\n",
    "<img src=\"files/img/cnot_sup.png\" alt=\"Note: In order for images to show up in this jupyter notebook you need to select File => Trusted Notebook\" width=\"800 px\">       \n",
    "</center>"
   ]
  },
  {
   "cell_type": "code",
   "execution_count": null,
   "metadata": {
    "scrolled": true,
    "slideshow": {
     "slide_type": "subslide"
    }
   },
   "outputs": [],
   "source": [
    "execute_locally(qc_multi_qubit)"
   ]
  },
  {
   "cell_type": "markdown",
   "metadata": {
    "slideshow": {
     "slide_type": "subslide"
    }
   },
   "source": [
    "Other commonly mentioned multi-qubit gates (which can be decomposed into CNOT's):\n",
    "\n",
    "- The SWAP gate, which exchanges the state of two qubits;\n",
    "    \n",
    "    - `circuit.swap(q[0],q[1])`\n",
    "\n",
    "- The Tofolli gate, also known as CCNOT.\n",
    "\n",
    "    - `circuit.ccx(q[0],q[1],q[2])`"
   ]
  },
  {
   "cell_type": "markdown",
   "metadata": {
    "slideshow": {
     "slide_type": "skip"
    }
   },
   "source": [
    "<a id = 'aer_simulation'></a>"
   ]
  },
  {
   "cell_type": "markdown",
   "metadata": {
    "slideshow": {
     "slide_type": "slide"
    }
   },
   "source": [
    "# Simulating circuits with Qiskit Aer"
   ]
  },
  {
   "cell_type": "markdown",
   "metadata": {
    "slideshow": {
     "slide_type": "subslide"
    }
   },
   "source": [
    "<div class=\"alert alert-block alert-info\">\n",
    "<p>In version 0.7 <b> Aer </b> was rename to <b> BasicAer </b>. </p>\n",
    "\n",
    "<p><b>Aer</b> will be used to fancier and larger packages.</p>\n",
    "</div>"
   ]
  },
  {
   "cell_type": "markdown",
   "metadata": {
    "slideshow": {
     "slide_type": "fragment"
    }
   },
   "source": [
    "#### Aer vs BasicAer \n",
    "\n",
    "* BasicAer: Terra's built-in suite of pure-python simulators\n",
    "\n",
    "* Aer: Qiskit's suite of high-performance simulators (faster and with noise sophisticated models - aer.noise)\n"
   ]
  },
  {
   "cell_type": "code",
   "execution_count": 10,
   "metadata": {
    "slideshow": {
     "slide_type": "subslide"
    }
   },
   "outputs": [],
   "source": [
    "from qiskit import BasicAer, execute"
   ]
  },
  {
   "cell_type": "code",
   "execution_count": 11,
   "metadata": {
    "slideshow": {
     "slide_type": "fragment"
    }
   },
   "outputs": [
    {
     "data": {
      "text/plain": [
       "[<QasmSimulatorPy('qasm_simulator') from BasicAer()>,\n",
       " <StatevectorSimulatorPy('statevector_simulator') from BasicAer()>,\n",
       " <UnitarySimulatorPy('unitary_simulator') from BasicAer()>]"
      ]
     },
     "execution_count": 11,
     "metadata": {},
     "output_type": "execute_result"
    }
   ],
   "source": [
    "BasicAer.backends()"
   ]
  },
  {
   "cell_type": "markdown",
   "metadata": {
    "slideshow": {
     "slide_type": "subslide"
    }
   },
   "source": [
    "#### Simulators \n",
    "\n",
    "* statevector_simulator : This is the qasm_simulator with a snapshot at the end\n",
    "  <p> Returns result object containing a dictionary of basis states with complex amplitudes for each</p>\n",
    "* unitary_simulator : Returns a matrix of your circuit!\n",
    "* ibmq_qasm_simulator : a public simulator on an HPC machine run by IBM (Note, this is under the IBMQ provider)"
   ]
  },
  {
   "cell_type": "markdown",
   "metadata": {
    "slideshow": {
     "slide_type": "slide"
    }
   },
   "source": [
    "### Statevector_simulator"
   ]
  },
  {
   "cell_type": "code",
   "execution_count": null,
   "metadata": {
    "slideshow": {
     "slide_type": "subslide"
    }
   },
   "outputs": [],
   "source": [
    "qc_superposition = QuantumCircuit(qr,cr)\n",
    "qc_superposition.h(qr[0])\n",
    "qc_superposition.measure(qr[0],cr[0])\n",
    "qc_superposition.draw()"
   ]
  },
  {
   "cell_type": "code",
   "execution_count": null,
   "metadata": {
    "slideshow": {
     "slide_type": "subslide"
    }
   },
   "outputs": [],
   "source": [
    "backend = BasicAer.get_backend(\"statevector_simulator\")\n",
    "\n",
    "# Import plotting tools\n",
    "from qiskit.tools.visualization import plot_bloch_multivector, plot_state_city\n",
    "\n",
    "# Plot the Bloch sphere of the qubit state after performing the Hadamard gate\n",
    "result_h = execute(qc_superposition, backend).result()\n",
    "bloch_h= result_h.get_statevector(qc_superposition)\n",
    "plot_bloch_multivector(bloch_h)"
   ]
  },
  {
   "cell_type": "code",
   "execution_count": null,
   "metadata": {
    "slideshow": {
     "slide_type": "subslide"
    }
   },
   "outputs": [],
   "source": [
    "# Plot the Bloch sphere of the qubit state after creating entanglement\n",
    "result_bell = execute(qc_multi_qubit, backend).result()\n",
    "bell= result_bell.get_statevector(qc_multi_qubit)\n",
    "plot_bloch_multivector(bell)"
   ]
  },
  {
   "cell_type": "code",
   "execution_count": null,
   "metadata": {
    "slideshow": {
     "slide_type": "fragment"
    }
   },
   "outputs": [],
   "source": [
    "plot_state_city(bell)"
   ]
  },
  {
   "cell_type": "markdown",
   "metadata": {
    "slideshow": {
     "slide_type": "slide"
    }
   },
   "source": [
    "### qasm_simulator"
   ]
  },
  {
   "cell_type": "markdown",
   "metadata": {
    "slideshow": {
     "slide_type": "fragment"
    }
   },
   "source": [
    "<div class=\"alert alert-block alert-info\">\n",
    "<p>To run the circuit you need to add measurement gates! </p>\n",
    "\n",
    "<p> <b>Note</b>: it is always a good ideia to add barrier before the measurement gates!</p>\n",
    "</div>"
   ]
  },
  {
   "cell_type": "code",
   "execution_count": null,
   "metadata": {
    "slideshow": {
     "slide_type": "subslide"
    }
   },
   "outputs": [],
   "source": [
    "qc.measure(qr0, cr0)\n",
    "qc.draw()"
   ]
  },
  {
   "cell_type": "code",
   "execution_count": null,
   "metadata": {},
   "outputs": [],
   "source": [
    "qr = QuantumRegister(3)\n",
    "cr = ClassicalRegister(3)\n",
    "qc_toffoli = QuantumCircuit(qr,cr)\n",
    "qc_toffoli.h(qr[0])\n",
    "qc_toffoli.x(qr[1])\n",
    "qc_toffoli.ccx(qr[0],qr[1],qr[2])\n",
    "qc_toffoli.measure(qr,cr)\n",
    "\n",
    "qc_toffoli.draw(output='mpl')"
   ]
  },
  {
   "cell_type": "code",
   "execution_count": null,
   "metadata": {
    "slideshow": {
     "slide_type": "subslide"
    }
   },
   "outputs": [],
   "source": [
    "backend = BasicAer.get_backend(\"qasm_simulator\")\n",
    "\n",
    "shots = 1024\n",
    "job_bell = execute(qc_toffoli, backend, shots=shots)\n",
    "\n",
    "from qiskit.tools.visualization import plot_histogram\n",
    "\n",
    "result_bell = job_bell.result()\n",
    "counts_bell = result_bell.get_counts(qc_toffoli)\n",
    "plot_histogram(counts_bell)"
   ]
  },
  {
   "cell_type": "markdown",
   "metadata": {
    "slideshow": {
     "slide_type": "skip"
    }
   },
   "source": [
    "<a id = 'ibmq_provider'></a>"
   ]
  },
  {
   "cell_type": "markdown",
   "metadata": {
    "slideshow": {
     "slide_type": "slide"
    }
   },
   "source": [
    "# IBM Q Provider: Running in quantum devices "
   ]
  },
  {
   "cell_type": "code",
   "execution_count": 19,
   "metadata": {
    "slideshow": {
     "slide_type": "subslide"
    }
   },
   "outputs": [],
   "source": [
    "from qiskit import IBMQ"
   ]
  },
  {
   "cell_type": "code",
   "execution_count": 20,
   "metadata": {
    "slideshow": {
     "slide_type": "skip"
    }
   },
   "outputs": [],
   "source": [
    "import sys\n",
    "#path to your Qconfig file\n",
    "sys.path.insert(0,'.\\..\\..')\n",
    "\n",
    "import Qconfig_IBM_experience\n",
    "import Qconfig_IBM_network"
   ]
  },
  {
   "cell_type": "code",
   "execution_count": 21,
   "metadata": {
    "slideshow": {
     "slide_type": "fragment"
    }
   },
   "outputs": [
    {
     "name": "stdout",
     "output_type": "stream",
     "text": [
      "Available backends:\n"
     ]
    },
    {
     "data": {
      "text/plain": [
       "[<IBMQBackend('ibmqx4') from IBMQ()>,\n",
       " <IBMQBackend('ibmqx2') from IBMQ()>,\n",
       " <IBMQBackend('ibmq_16_melbourne') from IBMQ()>,\n",
       " <IBMQBackend('ibmq_qasm_simulator') from IBMQ()>,\n",
       " <IBMQBackend('ibmq_20_tokyo') from IBMQ(ibm-q-academic, univ-minho, group-1-test)>,\n",
       " <IBMQBackend('ibmq_qasm_simulator') from IBMQ(ibm-q-academic, univ-minho, group-1-test)>]"
      ]
     },
     "execution_count": 21,
     "metadata": {},
     "output_type": "execute_result"
    }
   ],
   "source": [
    "# Or you can use:\n",
    "IBMQ.enable_account(Qconfig_IBM_experience.APItoken)\n",
    "IBMQ.enable_account(Qconfig_IBM_network.APItoken, Qconfig_IBM_network.url)\n",
    "\n",
    "# IMBQ.load_account()\n",
    "\n",
    "print(\"Available backends:\")\n",
    "IBMQ.backends()"
   ]
  },
  {
   "cell_type": "markdown",
   "metadata": {
    "slideshow": {
     "slide_type": "subslide"
    }
   },
   "source": [
    "<img src=\"img/ibmQExperience.png\" alt=\"Note: In order for images to show up in this jupyter notebook you need to select File => Trusted Notebook\" width=\"1000 px\" align=\"center\">"
   ]
  },
  {
   "cell_type": "code",
   "execution_count": 22,
   "metadata": {
    "slideshow": {
     "slide_type": "subslide"
    }
   },
   "outputs": [
    {
     "name": "stdout",
     "output_type": "stream",
     "text": [
      "ibmq_20_tokyo               ibmq_16_melbourne            ibmqx2\n",
      "-------------               -----------------            ------\n",
      "Num. Qubits:  20            Num. Qubits:  14             Num. Qubits:  5\n",
      "Pending Jobs: 0             Pending Jobs: 0              Pending Jobs: 4\n",
      "Least busy:   True          Least busy:   False          Least busy:   False\n",
      "Operational:  True          Operational:  True           Operational:  True\n",
      "Avg. T1:      78.1          Avg. T1:      47.1           Avg. T1:      61.9\n",
      "Avg. T2:      50.2          Avg. T2:      67.8           Avg. T2:      43.7\n",
      "\n",
      "\n",
      "\n",
      "ibmqx4\n",
      "------\n",
      "Num. Qubits:  5\n",
      "Pending Jobs: 6\n",
      "Least busy:   False\n",
      "Operational:  True\n",
      "Avg. T1:      50.0\n",
      "Avg. T2:      23.6\n",
      "\n",
      "\n",
      "\n"
     ]
    }
   ],
   "source": [
    "from qiskit.tools.monitor import backend_overview\n",
    "\n",
    "backend_overview()"
   ]
  },
  {
   "cell_type": "markdown",
   "metadata": {
    "slideshow": {
     "slide_type": "subslide"
    }
   },
   "source": [
    "        from qiskit.tools.jupyter import *\n",
    "\n",
    "        %qiskit_backend_overview\n",
    "        \n",
    "<img src=\"img/overview.png\" alt=\"Note: In order for images to show up in this jupyter notebook you need to select File => Trusted Notebook\" width=\"1000 px\" align=\"center\">\n"
   ]
  },
  {
   "cell_type": "code",
   "execution_count": 23,
   "metadata": {
    "slideshow": {
     "slide_type": "subslide"
    }
   },
   "outputs": [
    {
     "name": "stdout",
     "output_type": "stream",
     "text": [
      "ibmq_20_tokyo\n",
      "=============\n",
      "Configuration\n",
      "-------------\n",
      "    n_qubits: 20\n",
      "    operational: True\n",
      "    status_msg: active\n",
      "    pending_jobs: 0\n",
      "    basis_gates: ['u1', 'u2', 'u3', 'cx', 'id']\n",
      "    local: False\n",
      "    simulator: False\n",
      "    discriminators: ['linear_discriminator', 'quadratic_discriminator']\n",
      "    max_shots: 8192\n",
      "    acquisition_latency : []\n",
      "    open_pulse: False\n",
      "    backend_name: ibmq_20_tokyo\n",
      "    memory: True\n",
      "    meas_lo_range: [[6.090508695, 8.090508695], [6.224394221, 8.224394221], [6.098107634, 8.098107634], [6.310698823, 8.310698823], [6.16798539, 8.16798539], [6.297936311, 8.297936311], [6.156332717, 8.156332717], [6.26951458, 8.26951458], [6.20472734, 8.20472734], [6.254023964, 8.254023964], [6.114162303, 8.114162303], [6.225126594, 8.225126593999999], [6.113678533, 8.113678533], [6.310187362, 8.310187362], [6.170311462, 8.170311462], [6.281813827, 8.281813827], [6.153026031, 8.153026031], [6.250792101, 8.250792101], [6.205991134, 8.205991134], [6.243078141, 8.243078141]]\n",
      "    conditional_latency : []\n",
      "    dt: 3.5555555555555554e-09\n",
      "    description: 20 qubit device Tokyo remapped\n",
      "    sample_name: Qubert\n",
      "    n_registers: 1\n",
      "    allow_q_object: True\n",
      "    max_experiments: 900\n",
      "    meas_kernels: ['boxcar']\n",
      "    u_channel_lo: []\n",
      "    qubit_lo_range: [[4.020067853254916, 6.020067853254916], [3.9032823127356444, 5.903282312735644], [3.778400764972969, 5.778400764972969], [4.093527414675141, 6.093527414675141], [4.106927902497952, 6.106927902497952], [4.142732885529881, 6.142732885529881], [4.0333730293602486, 6.0333730293602486], [3.4576121766630212, 5.457612176663021], [4.019122553888862, 6.019122553888862], [4.063966145247117, 6.063966145247117], [3.959144075065187, 5.959144075065187], [4.229471732349173, 6.229471732349173], [3.662376150352891, 5.662376150352891], [3.898149504713147, 5.898149504713147], [4.233370178300505, 6.233370178300505], [3.49057106049772, 5.49057106049772], [4.074885835087263, 6.074885835087263], [3.9848945438215395, 5.9848945438215395], [4.109582417256195, 6.109582417256195], [4.124973281219441, 6.124973281219441]]\n",
      "    defaults: {'qubit_freq_est': [5.020067853254916, 4.903282312735644, 4.778400764972969, 5.093527414675141, 5.106927902497952, 5.142732885529881, 5.0333730293602486, 4.457612176663021, 5.019122553888862, 5.063966145247117, 4.959144075065187, 5.229471732349173, 4.662376150352891, 4.898149504713147, 5.233370178300505, 4.49057106049772, 5.074885835087263, 4.9848945438215395, 5.109582417256195, 5.124973281219441], 'discriminator': {'params': {'resample': False, 'neighborhoods': [{'channels': 1, 'qubits': 1}, {'channels': 2, 'qubits': 2}, {'channels': 4, 'qubits': 4}, {'channels': 8, 'qubits': 8}, {'channels': 16, 'qubits': 16}, {'channels': 32, 'qubits': 32}, {'channels': 64, 'qubits': 64}, {'channels': 128, 'qubits': 128}, {'channels': 256, 'qubits': 256}, {'channels': 512, 'qubits': 512}, {'channels': 1024, 'qubits': 1024}, {'channels': 2048, 'qubits': 2048}, {'channels': 4096, 'qubits': 4096}, {'channels': 8192, 'qubits': 8192}, {'channels': 16384, 'qubits': 16384}, {'channels': 32768, 'qubits': 32768}, {'channels': 65536, 'qubits': 65536}, {'channels': 131072, 'qubits': 131072}, {'channels': 262144, 'qubits': 262144}, {'channels': 524288, 'qubits': 524288}], 'cal': 'coloring'}, 'name': 'linear_discriminator'}, 'meas_freq_est': [7.090508695, 7.224394221, 7.098107634, 7.310698823, 7.16798539, 7.297936311, 7.156332717, 7.26951458, 7.20472734, 7.254023964, 7.114162303, 7.225126594, 7.113678533, 7.310187362, 7.170311462, 7.281813827, 7.153026031, 7.250792101, 7.205991134, 7.243078141], 'meas_kernel': {'params': {}, 'name': 'boxcar'}, 'buffer': 1}\n",
      "    coupling_map: [[0, 1], [0, 5], [1, 0], [1, 2], [1, 6], [1, 7], [2, 1], [2, 6], [3, 8], [3, 9], [4, 8], [4, 9], [5, 0], [5, 6], [5, 10], [5, 11], [6, 1], [6, 2], [6, 5], [6, 7], [6, 10], [6, 11], [7, 1], [7, 6], [7, 8], [7, 12], [8, 3], [8, 4], [8, 7], [8, 9], [8, 12], [8, 13], [9, 3], [9, 4], [9, 8], [10, 5], [10, 6], [10, 11], [10, 15], [11, 5], [11, 6], [11, 10], [11, 12], [11, 16], [11, 17], [12, 7], [12, 8], [12, 11], [12, 13], [12, 16], [13, 8], [13, 12], [13, 14], [13, 18], [13, 19], [14, 13], [14, 18], [14, 19], [15, 10], [15, 16], [16, 11], [16, 12], [16, 15], [16, 17], [17, 11], [17, 16], [17, 18], [18, 13], [18, 14], [18, 17], [19, 13], [19, 14]]\n",
      "    rep_times: [50, 500, 1000]\n",
      "    online_date: 2018-05-10T04:00:00+00:00\n",
      "    hamiltonian: {'osc': {}, 'vars': {}, 'h_latex': '', 'h_str': ['']}\n",
      "    credits_required: True\n",
      "    url: None\n",
      "    meas_map: [[0, 1, 2, 3, 4, 5, 6, 7, 8, 9, 10, 11, 12, 13, 14, 15, 16, 17, 18, 19]]\n",
      "    backend_version: 1.1.1\n",
      "    dtm: 3.5555555555555554e-09\n",
      "    conditional: False\n",
      "    meas_levels: [1, 2]\n",
      "    n_uchannels: 0\n",
      "\n",
      "Qubits [Name / Freq / T1 / T2 / U1 err / U2 err / U3 err / Readout err]\n",
      "-----------------------------------------------------------------------\n",
      "    Q0 / 5.02007 GHz / 93.15814 µs / 49.05352 µs / 0.0 / 0.00149 / 0.00298 / 0.036\n",
      "    Q1 / 4.90328 GHz / 112.20103 µs / 62.2219 µs / 0.0 / 0.00096 / 0.00193 / 0.032\n",
      "    Q2 / 4.7784 GHz / 96.11126 µs / 32.07219 µs / 0.0 / 0.00513 / 0.01026 / 0.116\n",
      "    Q3 / 5.09353 GHz / 71.16254 µs / 46.5135 µs / 0.0 / 0.00557 / 0.01113 / 0.042\n",
      "    Q4 / 5.10693 GHz / 87.27105 µs / 31.68539 µs / 0.0 / 0.00274 / 0.00549 / 0.058\n",
      "    Q5 / 5.14273 GHz / 38.68349 µs / 41.10991 µs / 0.0 / 0.0015 / 0.00299 / 0.047\n",
      "    Q6 / 5.03337 GHz / 92.55877 µs / 55.9486 µs / 0.0 / 0.00069 / 0.00137 / 0.027\n",
      "    Q7 / 4.45761 GHz / 97.24442 µs / 85.25766 µs / 0.0 / 0.00152 / 0.00304 / 0.095\n",
      "    Q8 / 5.01912 GHz / 50.32156 µs / 54.67645 µs / 0.0 / 0.00176 / 0.00352 / 0.057\n",
      "    Q9 / 5.06397 GHz / 56.69019 µs / 22.9287 µs / 0.0 / 0.00152 / 0.00304 / 0.068\n",
      "    Q10 / 4.95914 GHz / 79.61066 µs / 50.00389 µs / 0.0 / 0.00244 / 0.00488 / 0.036\n",
      "    Q11 / 5.22947 GHz / 71.11991 µs / 46.09277 µs / 0.0 / 0.00195 / 0.00389 / 0.039\n",
      "    Q12 / 4.66238 GHz / 57.23069 µs / 71.62781 µs / 0.0 / 0.00122 / 0.00245 / 0.233\n",
      "    Q13 / 4.89815 GHz / 120.08645 µs / 60.03407 µs / 0.0 / 0.00189 / 0.00379 / 0.032\n",
      "    Q14 / 5.23337 GHz / 58.76288 µs / 51.3598 µs / 0.0 / 0.00176 / 0.00352 / 0.043\n",
      "    Q15 / 4.49057 GHz / 79.48357 µs / 59.57375 µs / 0.0 / 0.00109 / 0.00219 / 0.094\n",
      "    Q16 / 5.07489 GHz / 44.30495 µs / 45.86736 µs / 0.0 / 0.00115 / 0.00231 / 0.098\n",
      "    Q17 / 4.98489 GHz / 102.97572 µs / 51.61594 µs / 0.0 / 0.00102 / 0.00204 / 0.086\n",
      "    Q18 / 5.10958 GHz / 68.96818 µs / 60.45859 µs / 0.0 / 0.00401 / 0.00802 / 0.069\n",
      "    Q19 / 5.12497 GHz / 83.89641 µs / 25.66835 µs / 0.0 / 0.00196 / 0.00392 / 0.037\n",
      "\n",
      "Multi-Qubit Gates [Name / Type / Gate Error]\n",
      "--------------------------------------------\n",
      "    CX0_1 / cx / 0.01906\n",
      "    CX0_5 / cx / 0.02487\n",
      "    CX1_0 / cx / 0.01906\n",
      "    CX1_2 / cx / 0.02098\n",
      "    CX1_6 / cx / 0.01641\n",
      "    CX1_7 / cx / 0.03495\n",
      "    CX2_1 / cx / 0.02098\n",
      "    CX2_6 / cx / 0.03442\n",
      "    CX3_8 / cx / 0.03237\n",
      "    CX3_9 / cx / 0.069\n",
      "    CX4_8 / cx / 0.02745\n",
      "    CX4_9 / cx / 0.04903\n",
      "    CX5_0 / cx / 0.02487\n",
      "    CX5_6 / cx / 0.02357\n",
      "    CX5_10 / cx / 0.03547\n",
      "    CX5_11 / cx / 0.02928\n",
      "    CX6_1 / cx / 0.01641\n",
      "    CX6_2 / cx / 0.03442\n",
      "    CX6_5 / cx / 0.02357\n",
      "    CX6_7 / cx / 0.03827\n",
      "    CX6_10 / cx / 0.0182\n",
      "    CX6_11 / cx / 0.02262\n",
      "    CX7_1 / cx / 0.03495\n",
      "    CX7_6 / cx / 0.03827\n",
      "    CX7_8 / cx / 0.04924\n",
      "    CX7_12 / cx / 0.02218\n",
      "    CX8_3 / cx / 0.03237\n",
      "    CX8_4 / cx / 0.02745\n",
      "    CX8_7 / cx / 0.04924\n",
      "    CX8_9 / cx / 0.02937\n",
      "    CX8_12 / cx / 0.03818\n",
      "    CX8_13 / cx / 0.02489\n",
      "    CX9_3 / cx / 0.069\n",
      "    CX9_4 / cx / 0.04903\n",
      "    CX9_8 / cx / 0.02937\n",
      "    CX10_5 / cx / 0.03547\n",
      "    CX10_6 / cx / 0.0182\n",
      "    CX10_11 / cx / 0.03193\n",
      "    CX10_15 / cx / 0.03683\n",
      "    CX11_5 / cx / 0.02928\n",
      "    CX11_6 / cx / 0.02262\n",
      "    CX11_10 / cx / 0.03193\n",
      "    CX11_12 / cx / 0.03385\n",
      "    CX11_16 / cx / 0.02298\n",
      "    CX11_17 / cx / 0.03279\n",
      "    CX12_7 / cx / 0.02218\n",
      "    CX12_8 / cx / 0.03818\n",
      "    CX12_11 / cx / 0.03385\n",
      "    CX12_13 / cx / 0.02193\n",
      "    CX12_16 / cx / 0.03848\n",
      "    CX13_8 / cx / 0.02489\n",
      "    CX13_12 / cx / 0.02193\n",
      "    CX13_14 / cx / 0.0322\n",
      "    CX13_18 / cx / 0.03487\n",
      "    CX13_19 / cx / 0.02401\n",
      "    CX14_13 / cx / 0.0322\n",
      "    CX14_18 / cx / 0.02191\n",
      "    CX14_19 / cx / 0.02163\n",
      "    CX15_10 / cx / 0.03683\n",
      "    CX15_16 / cx / 0.04181\n",
      "    CX16_11 / cx / 0.02298\n",
      "    CX16_12 / cx / 0.03848\n",
      "    CX16_15 / cx / 0.04181\n",
      "    CX16_17 / cx / 0.021\n",
      "    CX17_11 / cx / 0.03279\n",
      "    CX17_16 / cx / 0.021\n",
      "    CX17_18 / cx / 0.02505\n",
      "    CX18_13 / cx / 0.03487\n",
      "    CX18_14 / cx / 0.02191\n",
      "    CX18_17 / cx / 0.02505\n",
      "    CX19_13 / cx / 0.02401\n",
      "    CX19_14 / cx / 0.02163\n"
     ]
    }
   ],
   "source": [
    "from qiskit.tools.monitor import backend_monitor\n",
    "\n",
    "backend = IBMQ.get_backend('ibmq_20_tokyo')\n",
    "\n",
    "backend_monitor(backend)"
   ]
  },
  {
   "cell_type": "markdown",
   "metadata": {
    "slideshow": {
     "slide_type": "subslide"
    }
   },
   "source": [
    "        from qiskit.tools.jupyter import *\n",
    "\n",
    "        %qiskit_backend_monitor\n",
    "        \n",
    "<img src=\"img/backend_monitor.png\" alt=\"Note: In order for images to show up in this jupyter notebook you need to select File => Trusted Notebook\" width=\"1000 px\" align=\"center\">\n"
   ]
  },
  {
   "cell_type": "code",
   "execution_count": 24,
   "metadata": {
    "hideOutput": true,
    "slideshow": {
     "slide_type": "subslide"
    }
   },
   "outputs": [
    {
     "data": {
      "application/vnd.jupyter.widget-view+json": {
       "model_id": "065febf8687e4c71aa5860f831e7d06e",
       "version_major": 2,
       "version_minor": 0
      },
      "text/plain": [
       "HTML(value=\"<p style='font-size:16px;'>Job Status: job is being initialized </p>\")"
      ]
     },
     "metadata": {},
     "output_type": "display_data"
    }
   ],
   "source": [
    "shots = 1024       # Number of shots to run the program (experiment); maximum is 8192 shots.\n",
    "job_exp = execute(qc_toffoli, backend, shots = shots)\n",
    "\n",
    "from qiskit.tools.monitor import job_monitor\n",
    "\n",
    "job_monitor(job_exp, interval=5)"
   ]
  },
  {
   "cell_type": "code",
   "execution_count": 25,
   "metadata": {
    "slideshow": {
     "slide_type": "fragment"
    }
   },
   "outputs": [
    {
     "name": "stdout",
     "output_type": "stream",
     "text": [
      "JOB ID: 5ca34a07709d0f0051c6423d\n"
     ]
    },
    {
     "data": {
      "text/plain": [
       "{'000': 84,\n",
       " '001': 28,\n",
       " '010': 440,\n",
       " '011': 135,\n",
       " '100': 16,\n",
       " '101': 28,\n",
       " '110': 52,\n",
       " '111': 241}"
      ]
     },
     "execution_count": 25,
     "metadata": {},
     "output_type": "execute_result"
    }
   ],
   "source": [
    "# job_id allows you to retrive old jobs\n",
    "jobID = job_exp.job_id()\n",
    "\n",
    "print('JOB ID: {}'.format(jobID))\n",
    "\n",
    "job_get=backend.retrieve_job(jobID)\n",
    "job_get.result().get_counts(qc_toffoli)"
   ]
  },
  {
   "cell_type": "code",
   "execution_count": 26,
   "metadata": {
    "slideshow": {
     "slide_type": "subslide"
    }
   },
   "outputs": [
    {
     "data": {
      "image/png": "[encoded data removed]",
      "text/plain": [
       "<Figure size 504x360 with 1 Axes>"
      ]
     },
     "execution_count": 26,
     "metadata": {},
     "output_type": "execute_result"
    }
   ],
   "source": [
    "# We recommend increasing the timeout to 30 minutes to avoid timeout errors when the queue is long.\n",
    "result_real = job_exp.result(timeout=3600, wait=5)\n",
    "counts = result_real.get_counts(qc_toffoli)\n",
    "plot_histogram(counts)"
   ]
  },
  {
   "cell_type": "code",
   "execution_count": 27,
   "metadata": {
    "slideshow": {
     "slide_type": "subslide"
    }
   },
   "outputs": [
    {
     "data": {
      "image/png": "[encoded data removed]",
      "text/plain": [
       "<Figure size 504x360 with 1 Axes>"
      ]
     },
     "execution_count": 27,
     "metadata": {},
     "output_type": "execute_result"
    }
   ],
   "source": [
    "title = 'bell state'\n",
    "legend = ['run in real device results', 'simulation results']\n",
    "\n",
    "plot_histogram([counts, counts_bell], legend = legend, title= title)"
   ]
  },
  {
   "cell_type": "code",
   "execution_count": 30,
   "metadata": {
    "slideshow": {
     "slide_type": "subslide"
    }
   },
   "outputs": [
    {
     "data": {
      "image/png": "[encoded data removed]",
      "text/plain": [
       "<Figure size 1143.8x1402.66 with 1 Axes>"
      ]
     },
     "execution_count": 30,
     "metadata": {},
     "output_type": "execute_result"
    }
   ],
   "source": [
    "from qiskit import compile\n",
    "from qiskit.converters import qobj_to_circuits\n",
    "\n",
    "qobj = compile(qc_toffoli, backend)\n",
    "\n",
    "qc_run = qobj_to_circuits(qobj)[0]\n",
    "\n",
    "qc_run.draw(output='mpl')"
   ]
  },
  {
   "cell_type": "markdown",
   "metadata": {
    "slideshow": {
     "slide_type": "skip"
    }
   },
   "source": [
    "<a id ='Deutsch'></a>"
   ]
  },
  {
   "cell_type": "markdown",
   "metadata": {
    "slideshow": {
     "slide_type": "slide"
    }
   },
   "source": [
    "# Deutsch-Josza Algorithm "
   ]
  },
  {
   "cell_type": "markdown",
   "metadata": {
    "slideshow": {
     "slide_type": "subslide"
    }
   },
   "source": [
    "### Problem formulation\n",
    "\n",
    "Consider a function $f: \\{0,1\\}^n \\rightarrow \\{0,1\\}$ that maps an array of $n$  bits into either 0 or 1. We do not know the logic behind it. **We know that it is either constant or balanced**:\n",
    "- **Constant**: its output is always 0 or always 1\n",
    "- **Balanced**: outputs 0 for half the input value and 1 for the other half\n",
    "\n",
    "\n",
    "For the case that $n=1$ we have $f: \\{0,1\\} \\rightarrow \\{0,1\\}$ that maps a single bit into either 0 or 1. We are given a black box, an **oracle**, that takes as input a bit and outputs the unknown value.\n",
    "<p>\n",
    "<center>\n",
    "<img src=\"files/img/c_oracle.png\" alt=\"Note: In order for images to show up in this jupyter notebook you need to select File => Trusted Notebook\" width=\"400 px\">\n",
    "</center>\n",
    "\n",
    "To answer this question classically, we would always need two function invocations. We could do $f(0)$ and $f(1)$ and see if it is either constant or balanced. "
   ]
  },
  {
   "cell_type": "markdown",
   "metadata": {
    "slideshow": {
     "slide_type": "subslide"
    }
   },
   "source": [
    "Before transforming it into a quantum problem, we need our black box to be an oracle which allows for **reversible computation**, like so:\n",
    "<p>\n",
    "\n",
    "<center>\n",
    "<img src=\"files/img/q_oracle.png\" alt=\"Note: In order for images to show up in this jupyter notebook you need to select File => Trusted Notebook\" width=\"400 px\" >\n",
    "</center>"
   ]
  },
  {
   "cell_type": "markdown",
   "metadata": {
    "slideshow": {
     "slide_type": "subslide"
    }
   },
   "source": [
    "### Algorithm\n",
    "\n",
    "\n",
    "Let us imagine the following procedure:\n",
    "- We begin with two qubits, $|a \\rangle$ in state $|0\\rangle$ and $| b \\rangle$ in state $|1\\rangle$: $\\; |01\\rangle$.\n",
    "\n",
    "- We apply a Hadamard to each qubit, the result is $\\frac{1}{2}(|00\\rangle - |01\\rangle + |10\\rangle - |11\\rangle)$\n",
    "\n",
    "- We now call our oracle, which maps $|ab\\rangle$ or $|a\\rangle |b\\rangle$ (easier to interpret) into $|a\\rangle |b \\oplus f(a)\\rangle$ the result is:\n",
    "\n",
    "$$\\frac{1}{2}( \\; |0\\rangle |0\\oplus f(0)\\rangle \\;-\\; |0\\rangle |1\\oplus f(0)\\rangle \\;+\\; |1\\rangle |0\\oplus f(1)\\rangle \\;-\\; |1 \\rangle |1\\oplus f(1)\\rangle \\;)$$"
   ]
  },
  {
   "cell_type": "markdown",
   "metadata": {
    "slideshow": {
     "slide_type": "subslide"
    }
   },
   "source": [
    "We can now use the following equivalence:\n",
    "\n",
    "$$|0 \\oplus a\\rangle - |1 \\oplus a\\rangle =  (-1)^a(|0\\rangle - |1\\rangle)$$\n",
    "\n",
    "To replace above and get:\n",
    "\n",
    "$$\\frac{1}{2}[|0\\rangle \\,\\otimes \\, (-1)^{f(0)}(|0\\rangle - |1\\rangle)\\; +\\; |1\\rangle \\,\\otimes \\,(-1)^{f(1)}(|0\\rangle - |1\\rangle)]$$\n",
    "\n",
    "This quantum state can be separated into the product state:\n",
    "\n",
    "$$ [\\frac{1}{\\sqrt{2}} (-1)^{f(0)} | 0 \\rangle + \\frac{1}{\\sqrt{2}} (-1)^{f(1)}| 1 \\rangle] \\; \\otimes \\; [\\frac{1}{\\sqrt{2}} | 0 \\rangle - \\frac{1}{\\sqrt{2}} | 1 \\rangle] $$\n",
    "\n",
    "Our second qubit can now be ignored, and what remains is our first qubit, which contains both $f(0)$ and $f(1)$ - both images of $f$ with a single pass over the oracle. This can further be simplified as:\n",
    "\n",
    "$$(-1)^{f(0)}(\\frac{1}{\\sqrt{2}} | 0 \\rangle + \\frac{1}{\\sqrt{2}} (-1)^{f(0) \\oplus f(1)} | 1 \\rangle)$$\n",
    "\n",
    "\n",
    "Lastly, we apply a Hadamard gate on our qubit and we arrive at:\n",
    "\n",
    "$$(-1)^{f(0)} |f(0) \\oplus f(1)\\rangle$$"
   ]
  },
  {
   "cell_type": "markdown",
   "metadata": {
    "slideshow": {
     "slide_type": "subslide"
    }
   },
   "source": [
    "Lastly, we apply a Hadamard gate on our qubit and we arrive at:\n",
    "\n",
    "$$(-1)^{f(0)} |f(0) \\oplus f(1)\\rangle$$\n",
    "\n",
    "What is the meaning of this?\n",
    "- if f is constant ($00$ or $11$) $\\rightarrow$ output is $0$ (xor is 0)\n",
    "- if f is balanced ($01$ or $10$) $\\rightarrow$ output is $\\pm 1$ (xor is 1)\n",
    "\n",
    "Which, in fact, means that we can do a *single pass* over the oracle gate discover whether it is constant or balanced, an impossible feat in classical computing. "
   ]
  },
  {
   "cell_type": "markdown",
   "metadata": {
    "slideshow": {
     "slide_type": "subslide"
    }
   },
   "source": [
    "Generalizing for a function $f: \\{0,1\\}^n \\rightarrow \\{0,1\\}$, a classical algorithm would need $2^{n-1}+1$ passes, while **a quantum function would still require 1 pass**.\n",
    "<p>\n",
    "\n",
    "<center>\n",
    "<img src=\"files/img/q_oraclen.png\" alt=\"Note: In order for images to show up in this jupyter notebook you need to select File => Trusted Notebook\" width=\"500 px\">\n",
    "</center>\n",
    "\n",
    "<p>\n",
    "<p>\n",
    "\n",
    "**Quantum parallelism**: a quantum register has the ability to exist in a superposition of base states - each one may be thought of as a single argument to a function. \n",
    "\n",
    "A function performed on the register in a superposition of states is thus performed on each of the components of the superposition, _while only being applied once_."
   ]
  },
  {
   "cell_type": "code",
   "execution_count": 3,
   "metadata": {
    "slideshow": {
     "slide_type": "subslide"
    }
   },
   "outputs": [
    {
     "data": {
      "image/png": "[encoded data removed]",
      "text/plain": [
       "<Figure size 421.4x319.06 with 1 Axes>"
      ]
     },
     "execution_count": 3,
     "metadata": {},
     "output_type": "execute_result"
    }
   ],
   "source": [
    "# Create a quantum circuit with 3 qubits and 2 bits\n",
    "qr = QuantumRegister(3)\n",
    "cr = ClassicalRegister(2)\n",
    "qc = QuantumCircuit(qr,cr)\n",
    "\n",
    "\n",
    "\n",
    "# Black box with 2 input qubits\n",
    "qc.barrier()\n",
    "qc.cx(qr[0],qr[2])\n",
    "qc.cx(qr[1],qr[2])\n",
    "qc.barrier()\n",
    "\n",
    "\n",
    "qc.draw(output='mpl')"
   ]
  },
  {
   "cell_type": "code",
   "execution_count": 27,
   "metadata": {
    "scrolled": true,
    "slideshow": {
     "slide_type": "subslide"
    }
   },
   "outputs": [],
   "source": [
    "backend = BasicAer.get_backend(\"qasm_simulator\")\n",
    "\n",
    "shots = 1024\n",
    "job_DJ_s = execute(qc, backend, shots=shots)\n",
    "\n",
    "result_DJ_s = job_DJ_s.result()\n",
    "counts_DJ_sim = result_DJ_s.get_counts(qc)"
   ]
  },
  {
   "cell_type": "code",
   "execution_count": 28,
   "metadata": {
    "slideshow": {
     "slide_type": "fragment"
    }
   },
   "outputs": [
    {
     "name": "stdout",
     "output_type": "stream",
     "text": [
      "JOB ID: 5c9e46bb54ca3d0062df21cb\n"
     ]
    }
   ],
   "source": [
    "backend = IBMQ.get_backend('ibmq_20_tokyo')\n",
    "\n",
    "shots = 1024\n",
    "job_DJ_r = execute(qc, backend, shots=shots)\n",
    "\n",
    "jobID_DJ_r = job_DJ_r.job_id()\n",
    "\n",
    "print('JOB ID: {}'.format(jobID_DJ_r))"
   ]
  },
  {
   "cell_type": "code",
   "execution_count": 29,
   "metadata": {
    "slideshow": {
     "slide_type": "fragment"
    }
   },
   "outputs": [],
   "source": [
    "job_get=backend.retrieve_job(jobID_DJ_r)\n",
    "result_DJ_r = job_get.result()\n",
    "counts_DJ_run = result_DJ_r.get_counts(qc)"
   ]
  },
  {
   "cell_type": "code",
   "execution_count": 30,
   "metadata": {
    "slideshow": {
     "slide_type": "subslide"
    }
   },
   "outputs": [
    {
     "data": {
      "image/png": "[encoded data removed]",
      "text/plain": [
       "<Figure size 504x360 with 1 Axes>"
      ]
     },
     "execution_count": 30,
     "metadata": {},
     "output_type": "execute_result"
    }
   ],
   "source": [
    "plot_histogram([counts_DJ_run, counts_DJ_sim ], legend=[ 'run in real device', 'ideal'])"
   ]
  },
  {
   "cell_type": "markdown",
   "metadata": {
    "slideshow": {
     "slide_type": "skip"
    }
   },
   "source": [
    "<a id = 'ignis'></a>"
   ]
  },
  {
   "cell_type": "markdown",
   "metadata": {
    "slideshow": {
     "slide_type": "slide"
    }
   },
   "source": [
    "# Ignis \n",
    "\n",
    "<img src=\"files/img/ignis_overview.png\" alt=\"Note: In order for images to show up in this jupyter notebook you need to select File => Trusted Notebook\" width=\"1000 px\" align=\"center\">"
   ]
  },
  {
   "cell_type": "code",
   "execution_count": 31,
   "metadata": {
    "slideshow": {
     "slide_type": "subslide"
    }
   },
   "outputs": [],
   "source": [
    "from qiskit.ignis.mitigation.measurement import ( complete_meas_cal, CompleteMeasFitter, MeasurementFilter )"
   ]
  },
  {
   "cell_type": "code",
   "execution_count": 32,
   "metadata": {
    "slideshow": {
     "slide_type": "fragment"
    }
   },
   "outputs": [],
   "source": [
    "# Generate the calibration circuits\n",
    "qr = QuantumRegister(3)\n",
    "meas_calibs, state_labels = complete_meas_cal(qubit_list=[0,1], qr=qr, circlabel='mcal')"
   ]
  },
  {
   "cell_type": "code",
   "execution_count": 33,
   "metadata": {
    "slideshow": {
     "slide_type": "fragment"
    }
   },
   "outputs": [
    {
     "data": {
      "text/plain": [
       "['00', '01', '10', '11']"
      ]
     },
     "execution_count": 33,
     "metadata": {},
     "output_type": "execute_result"
    }
   ],
   "source": [
    "state_labels"
   ]
  },
  {
   "cell_type": "code",
   "execution_count": 34,
   "metadata": {
    "hidePrompt": false,
    "slideshow": {
     "slide_type": "subslide"
    }
   },
   "outputs": [],
   "source": [
    "job_ignis = execute(meas_calibs, backend=backend, shots=1000)\n",
    "cal_results = job_ignis.result()"
   ]
  },
  {
   "cell_type": "code",
   "execution_count": 35,
   "metadata": {
    "hidePrompt": false,
    "slideshow": {
     "slide_type": "fragment"
    }
   },
   "outputs": [
    {
     "name": "stdout",
     "output_type": "stream",
     "text": [
      "[[0.967 0.122 0.055 0.015]\n",
      " [0.015 0.86  0.001 0.04 ]\n",
      " [0.016 0.003 0.934 0.153]\n",
      " [0.002 0.015 0.01  0.792]]\n"
     ]
    }
   ],
   "source": [
    "# The calibration matrix without noise is the identity matrix\n",
    "meas_fitter = CompleteMeasFitter(cal_results, state_labels, circlabel='mcal')\n",
    "print(meas_fitter.cal_matrix)"
   ]
  },
  {
   "cell_type": "code",
   "execution_count": 36,
   "metadata": {
    "hidePrompt": false,
    "slideshow": {
     "slide_type": "fragment"
    }
   },
   "outputs": [
    {
     "data": {
      "image/png": "[encoded data removed]",
      "text/plain": [
       "<Figure size 432x288 with 2 Axes>"
      ]
     },
     "metadata": {},
     "output_type": "display_data"
    }
   ],
   "source": [
    "# Plot the calibration matrix\n",
    "meas_fitter.plot_calibration()"
   ]
  },
  {
   "cell_type": "markdown",
   "metadata": {
    "slideshow": {
     "slide_type": "subslide"
    }
   },
   "source": [
    "#### The fidelity of the target in the original and the adapted circuit"
   ]
  },
  {
   "cell_type": "code",
   "execution_count": 37,
   "metadata": {
    "hidePrompt": false,
    "slideshow": {
     "slide_type": "fragment"
    }
   },
   "outputs": [
    {
     "name": "stdout",
     "output_type": "stream",
     "text": [
      "Average Measurement Fidelity: 0.888250\n",
      "Average Measurement Fidelity of Q0: 0.963250\n",
      "Average Measurement Fidelity of Q1: 0.919750\n"
     ]
    }
   ],
   "source": [
    "# What is the measurement fidelity?\n",
    "print(\"Average Measurement Fidelity: %f\" % meas_fitter.readout_fidelity())\n",
    "\n",
    "# What is the measurement fidelity of Q0? - target of the adapted circuit\n",
    "print(\"Average Measurement Fidelity of Q0: %f\" % meas_fitter.readout_fidelity(\n",
    "    label_list = [['00','01'],['10','11']]))\n",
    "\n",
    "# What is the measurement fidelity of Q1? - target of the original circuit\n",
    "print(\"Average Measurement Fidelity of Q1: %f\" % meas_fitter.readout_fidelity(\n",
    "    label_list = [['00','10'],['01','11']]))"
   ]
  },
  {
   "cell_type": "markdown",
   "metadata": {
    "slideshow": {
     "slide_type": "subslide"
    }
   },
   "source": [
    "#### Applying Calibration "
   ]
  },
  {
   "cell_type": "code",
   "execution_count": 38,
   "metadata": {
    "hidePrompt": false,
    "slideshow": {
     "slide_type": "fragment"
    }
   },
   "outputs": [],
   "source": [
    "# Get the filter object\n",
    "meas_filter = meas_fitter.filter"
   ]
  },
  {
   "cell_type": "code",
   "execution_count": 39,
   "metadata": {
    "hidePrompt": false,
    "slideshow": {
     "slide_type": "fragment"
    }
   },
   "outputs": [],
   "source": [
    "# Results of X3 with mitigation\n",
    "mitigated_results = meas_filter.apply(result_DJ_r)\n",
    "mitigated_counts = mitigated_results.get_counts(0)"
   ]
  },
  {
   "cell_type": "code",
   "execution_count": 40,
   "metadata": {
    "hidePrompt": false,
    "slideshow": {
     "slide_type": "subslide"
    }
   },
   "outputs": [
    {
     "data": {
      "image/png": "[encoded data removed]",
      "text/plain": [
       "<Figure size 504x360 with 1 Axes>"
      ]
     },
     "execution_count": 40,
     "metadata": {},
     "output_type": "execute_result"
    }
   ],
   "source": [
    "plot_histogram([counts_DJ_sim, counts_DJ_run, mitigated_counts], legend=['ideal', 'raw', 'mitigated'])"
   ]
  }
 ],
 "metadata": {
  "anaconda-cloud": {},
  "kernelspec": {
   "display_name": "Python 3",
   "language": "python",
   "name": "python3"
  },
  "language_info": {
   "codemirror_mode": {
    "name": "ipython",
    "version": 3
   },
   "file_extension": ".py",
   "mimetype": "text/x-python",
   "name": "python",
   "nbconvert_exporter": "python",
   "pygments_lexer": "ipython3",
   "version": "3.7.2"
  }
 },
 "nbformat": 4,
 "nbformat_minor": 1
}
